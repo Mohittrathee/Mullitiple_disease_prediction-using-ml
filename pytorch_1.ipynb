{
  "nbformat": 4,
  "nbformat_minor": 0,
  "metadata": {
    "colab": {
      "provenance": [],
      "authorship_tag": "ABX9TyPpqwEDzELLE1NWNcIcAsr3",
      "include_colab_link": true
    },
    "kernelspec": {
      "name": "python3",
      "display_name": "Python 3"
    },
    "language_info": {
      "name": "python"
    }
  },
  "cells": [
    {
      "cell_type": "markdown",
      "metadata": {
        "id": "view-in-github",
        "colab_type": "text"
      },
      "source": [
        "<a href=\"https://colab.research.google.com/github/Mohittrathee/Mullitiple_disease_prediction-using-ml/blob/main/pytorch_1.ipynb\" target=\"_parent\"><img src=\"https://colab.research.google.com/assets/colab-badge.svg\" alt=\"Open In Colab\"/></a>"
      ]
    },
    {
      "cell_type": "code",
      "execution_count": 2,
      "metadata": {
        "id": "g0KNxX3s81V-"
      },
      "outputs": [],
      "source": [
        "import torch\n",
        "import pandas as pd\n",
        "import numpy as np\n",
        "import matplotlib.pyplot as plt\n"
      ]
    },
    {
      "cell_type": "code",
      "source": [
        "print(torch.__version__)"
      ],
      "metadata": {
        "colab": {
          "base_uri": "https://localhost:8080/"
        },
        "id": "qI3Mv7wa9TF8",
        "outputId": "a00235ba-5993-44a5-eb74-7bee500b0e21"
      },
      "execution_count": 3,
      "outputs": [
        {
          "output_type": "stream",
          "name": "stdout",
          "text": [
            "2.8.0+cu126\n"
          ]
        }
      ]
    },
    {
      "cell_type": "code",
      "source": [
        "scaler=torch.tensor(9)\n",
        "print(scaler)\n",
        "print(scaler.dtype)\n",
        "scaler.ndim\n"
      ],
      "metadata": {
        "id": "6qNASeEA9Z8_",
        "colab": {
          "base_uri": "https://localhost:8080/"
        },
        "outputId": "62fee9f4-b178-4754-fa47-5d654b2b98f9"
      },
      "execution_count": 4,
      "outputs": [
        {
          "output_type": "stream",
          "name": "stdout",
          "text": [
            "tensor(9)\n",
            "torch.int64\n"
          ]
        },
        {
          "output_type": "execute_result",
          "data": {
            "text/plain": [
              "0"
            ]
          },
          "metadata": {},
          "execution_count": 4
        }
      ]
    },
    {
      "cell_type": "code",
      "source": [
        "scaler.item()"
      ],
      "metadata": {
        "colab": {
          "base_uri": "https://localhost:8080/"
        },
        "id": "g9d6HEi_0lr7",
        "outputId": "60048d2d-d266-4810-d491-dd3953800c8c"
      },
      "execution_count": 5,
      "outputs": [
        {
          "output_type": "execute_result",
          "data": {
            "text/plain": [
              "9"
            ]
          },
          "metadata": {},
          "execution_count": 5
        }
      ]
    },
    {
      "cell_type": "code",
      "source": [
        "vector=torch.tensor([1,2,3])\n",
        "print(vector)\n",
        "print(vector.dtype)\n",
        "vector.shape"
      ],
      "metadata": {
        "colab": {
          "base_uri": "https://localhost:8080/"
        },
        "id": "wpkQRPv00xFT",
        "outputId": "27ad870a-7b1a-43a8-b9d5-8c8a7b5a8d35"
      },
      "execution_count": 6,
      "outputs": [
        {
          "output_type": "stream",
          "name": "stdout",
          "text": [
            "tensor([1, 2, 3])\n",
            "torch.int64\n"
          ]
        },
        {
          "output_type": "execute_result",
          "data": {
            "text/plain": [
              "torch.Size([3])"
            ]
          },
          "metadata": {},
          "execution_count": 6
        }
      ]
    },
    {
      "cell_type": "code",
      "source": [
        "vector.ndim"
      ],
      "metadata": {
        "colab": {
          "base_uri": "https://localhost:8080/"
        },
        "id": "mQumPQ801gTm",
        "outputId": "63192c39-bbe2-4cdd-f004-9a375d79daef"
      },
      "execution_count": 7,
      "outputs": [
        {
          "output_type": "execute_result",
          "data": {
            "text/plain": [
              "1"
            ]
          },
          "metadata": {},
          "execution_count": 7
        }
      ]
    },
    {
      "cell_type": "code",
      "source": [
        "matrix=torch.tensor([[1,2,3],[4,5,6]])\n",
        "print(matrix)\n",
        "matrix.ndim\n"
      ],
      "metadata": {
        "colab": {
          "base_uri": "https://localhost:8080/"
        },
        "id": "OQ61gyYJ1hIi",
        "outputId": "69048a02-0dd9-4119-ea99-df3dfd1d8404"
      },
      "execution_count": 8,
      "outputs": [
        {
          "output_type": "stream",
          "name": "stdout",
          "text": [
            "tensor([[1, 2, 3],\n",
            "        [4, 5, 6]])\n"
          ]
        },
        {
          "output_type": "execute_result",
          "data": {
            "text/plain": [
              "2"
            ]
          },
          "metadata": {},
          "execution_count": 8
        }
      ]
    },
    {
      "cell_type": "code",
      "source": [
        "matrix.shape"
      ],
      "metadata": {
        "colab": {
          "base_uri": "https://localhost:8080/"
        },
        "id": "caw6XfYB2C9Q",
        "outputId": "4749169e-26bd-4e9e-fc05-fa9004640242"
      },
      "execution_count": 9,
      "outputs": [
        {
          "output_type": "execute_result",
          "data": {
            "text/plain": [
              "torch.Size([2, 3])"
            ]
          },
          "metadata": {},
          "execution_count": 9
        }
      ]
    },
    {
      "cell_type": "code",
      "source": [
        "tensor=torch.tensor([[[[1,2,3,4],\n",
        "                      [4,5,6,7],\n",
        "                      [7,8,9,0]]]])\n",
        "tensor"
      ],
      "metadata": {
        "colab": {
          "base_uri": "https://localhost:8080/"
        },
        "id": "1gn8aW7O2183",
        "outputId": "74ee6f45-f820-410f-a2e8-477374201dc7"
      },
      "execution_count": 10,
      "outputs": [
        {
          "output_type": "execute_result",
          "data": {
            "text/plain": [
              "tensor([[[[1, 2, 3, 4],\n",
              "          [4, 5, 6, 7],\n",
              "          [7, 8, 9, 0]]]])"
            ]
          },
          "metadata": {},
          "execution_count": 10
        }
      ]
    },
    {
      "cell_type": "code",
      "source": [
        "tensor.shape"
      ],
      "metadata": {
        "colab": {
          "base_uri": "https://localhost:8080/"
        },
        "id": "OEQwP5L-3hjI",
        "outputId": "9d700322-4688-48e4-987e-dadee7eab65b"
      },
      "execution_count": 11,
      "outputs": [
        {
          "output_type": "execute_result",
          "data": {
            "text/plain": [
              "torch.Size([1, 1, 3, 4])"
            ]
          },
          "metadata": {},
          "execution_count": 11
        }
      ]
    },
    {
      "cell_type": "code",
      "source": [
        "tensor.ndim"
      ],
      "metadata": {
        "colab": {
          "base_uri": "https://localhost:8080/"
        },
        "id": "D00bSNKx3sL3",
        "outputId": "f1e84cde-aa96-4fed-f4bf-536455735f6c"
      },
      "execution_count": 12,
      "outputs": [
        {
          "output_type": "execute_result",
          "data": {
            "text/plain": [
              "4"
            ]
          },
          "metadata": {},
          "execution_count": 12
        }
      ]
    },
    {
      "cell_type": "code",
      "source": [
        "random_tensor=torch.rand(2,3,4)\n",
        "random_tensor"
      ],
      "metadata": {
        "colab": {
          "base_uri": "https://localhost:8080/"
        },
        "id": "KUbdIs853xI4",
        "outputId": "3fd29224-5162-4697-b0cf-2b942f3050c3"
      },
      "execution_count": 13,
      "outputs": [
        {
          "output_type": "execute_result",
          "data": {
            "text/plain": [
              "tensor([[[0.8483, 0.8739, 0.2418, 0.0122],\n",
              "         [0.3921, 0.3839, 0.9314, 0.2057],\n",
              "         [0.6077, 0.8299, 0.6524, 0.2827]],\n",
              "\n",
              "        [[0.9428, 0.2414, 0.4972, 0.6136],\n",
              "         [0.7175, 0.9840, 0.6363, 0.0698],\n",
              "         [0.3269, 0.6352, 0.7032, 0.2390]]])"
            ]
          },
          "metadata": {},
          "execution_count": 13
        }
      ]
    },
    {
      "cell_type": "code",
      "source": [
        "random_image_size_tensor=torch.rand(size=(224,224,4))\n",
        "random_image_size_tensor.shape,random_image_size_tensor.ndim"
      ],
      "metadata": {
        "colab": {
          "base_uri": "https://localhost:8080/"
        },
        "id": "4QfAf2187Xyx",
        "outputId": "a8191f23-c185-437c-ed8f-210518ab625d"
      },
      "execution_count": 14,
      "outputs": [
        {
          "output_type": "execute_result",
          "data": {
            "text/plain": [
              "(torch.Size([224, 224, 4]), 3)"
            ]
          },
          "metadata": {},
          "execution_count": 14
        }
      ]
    },
    {
      "cell_type": "code",
      "source": [
        "zeros=torch.zeros(size=(3,4))\n",
        "zeros"
      ],
      "metadata": {
        "colab": {
          "base_uri": "https://localhost:8080/"
        },
        "id": "edSnvPjJ8Z_f",
        "outputId": "950b2e29-89cf-48db-c0ea-8a3ee3367f77"
      },
      "execution_count": 15,
      "outputs": [
        {
          "output_type": "execute_result",
          "data": {
            "text/plain": [
              "tensor([[0., 0., 0., 0.],\n",
              "        [0., 0., 0., 0.],\n",
              "        [0., 0., 0., 0.]])"
            ]
          },
          "metadata": {},
          "execution_count": 15
        }
      ]
    },
    {
      "cell_type": "code",
      "source": [
        "ones=torch.ones(size=(3,4))\n",
        "ones"
      ],
      "metadata": {
        "colab": {
          "base_uri": "https://localhost:8080/"
        },
        "id": "Z6_8ugNwDKF7",
        "outputId": "2e9dfcc8-f382-4d60-a8ef-069c588012f0"
      },
      "execution_count": 16,
      "outputs": [
        {
          "output_type": "execute_result",
          "data": {
            "text/plain": [
              "tensor([[1., 1., 1., 1.],\n",
              "        [1., 1., 1., 1.],\n",
              "        [1., 1., 1., 1.]])"
            ]
          },
          "metadata": {},
          "execution_count": 16
        }
      ]
    },
    {
      "cell_type": "code",
      "source": [
        "torch.range(0,10)"
      ],
      "metadata": {
        "colab": {
          "base_uri": "https://localhost:8080/"
        },
        "id": "61j3Mq13DN10",
        "outputId": "ddf874a8-3d4c-4003-d808-55654451cfd7"
      },
      "execution_count": 17,
      "outputs": [
        {
          "output_type": "stream",
          "name": "stderr",
          "text": [
            "/tmp/ipython-input-497691777.py:1: UserWarning: torch.range is deprecated and will be removed in a future release because its behavior is inconsistent with Python's range builtin. Instead, use torch.arange, which produces values in [start, end).\n",
            "  torch.range(0,10)\n"
          ]
        },
        {
          "output_type": "execute_result",
          "data": {
            "text/plain": [
              "tensor([ 0.,  1.,  2.,  3.,  4.,  5.,  6.,  7.,  8.,  9., 10.])"
            ]
          },
          "metadata": {},
          "execution_count": 17
        }
      ]
    },
    {
      "cell_type": "code",
      "source": [
        "arranje=torch.arange(0,11,1)\n",
        "arranje"
      ],
      "metadata": {
        "colab": {
          "base_uri": "https://localhost:8080/"
        },
        "id": "6MExuVyvDgPQ",
        "outputId": "0e77a258-81a0-46c5-a2a9-98219a578ede"
      },
      "execution_count": 18,
      "outputs": [
        {
          "output_type": "execute_result",
          "data": {
            "text/plain": [
              "tensor([ 0,  1,  2,  3,  4,  5,  6,  7,  8,  9, 10])"
            ]
          },
          "metadata": {},
          "execution_count": 18
        }
      ]
    },
    {
      "cell_type": "code",
      "source": [
        "zeroes=torch.zeros_like(input=arranje)\n",
        "zeroes"
      ],
      "metadata": {
        "colab": {
          "base_uri": "https://localhost:8080/"
        },
        "id": "ET8-pSXREOX7",
        "outputId": "f112ce4b-2250-482a-ac8b-eff2f81a06bf"
      },
      "execution_count": 19,
      "outputs": [
        {
          "output_type": "execute_result",
          "data": {
            "text/plain": [
              "tensor([0, 0, 0, 0, 0, 0, 0, 0, 0, 0, 0])"
            ]
          },
          "metadata": {},
          "execution_count": 19
        }
      ]
    },
    {
      "cell_type": "code",
      "source": [
        "float_32_tensor=torch.tensor([1.0,2.0,3.0],\n",
        "                              dtype=None,\n",
        "                              device=None,\n",
        "                              requires_grad=False)\n",
        "float_32_tensor"
      ],
      "metadata": {
        "colab": {
          "base_uri": "https://localhost:8080/"
        },
        "id": "5D9jeOpZE3PR",
        "outputId": "47460f04-876f-4494-e338-14fbaa947f78"
      },
      "execution_count": 20,
      "outputs": [
        {
          "output_type": "execute_result",
          "data": {
            "text/plain": [
              "tensor([1., 2., 3.])"
            ]
          },
          "metadata": {},
          "execution_count": 20
        }
      ]
    },
    {
      "cell_type": "code",
      "source": [
        "float_32_tensor.dtype"
      ],
      "metadata": {
        "colab": {
          "base_uri": "https://localhost:8080/"
        },
        "id": "8GUp7UpOI6-i",
        "outputId": "dabb7ac1-ce99-480c-d679-26381c1cde32"
      },
      "execution_count": 21,
      "outputs": [
        {
          "output_type": "execute_result",
          "data": {
            "text/plain": [
              "torch.float32"
            ]
          },
          "metadata": {},
          "execution_count": 21
        }
      ]
    },
    {
      "cell_type": "code",
      "source": [
        "float_16_tensor=float_32_tensor.type(torch.float16)\n",
        "float_16_tensor"
      ],
      "metadata": {
        "colab": {
          "base_uri": "https://localhost:8080/"
        },
        "id": "1aTfkmszI_oN",
        "outputId": "637100a0-fd8f-4b1a-aa17-8b027538956e"
      },
      "execution_count": 22,
      "outputs": [
        {
          "output_type": "execute_result",
          "data": {
            "text/plain": [
              "tensor([1., 2., 3.], dtype=torch.float16)"
            ]
          },
          "metadata": {},
          "execution_count": 22
        }
      ]
    },
    {
      "cell_type": "code",
      "source": [
        "float_16_tensor * float_32_tensor"
      ],
      "metadata": {
        "colab": {
          "base_uri": "https://localhost:8080/"
        },
        "id": "fZDFix-ZJUav",
        "outputId": "55800aaa-4521-41f5-b5f7-5455faf50e33"
      },
      "execution_count": 23,
      "outputs": [
        {
          "output_type": "execute_result",
          "data": {
            "text/plain": [
              "tensor([1., 4., 9.])"
            ]
          },
          "metadata": {},
          "execution_count": 23
        }
      ]
    },
    {
      "cell_type": "code",
      "source": [
        "four_dimention_tesor=torch.rand(4,5,6,7)\n",
        "print(four_dimention_tesor)"
      ],
      "metadata": {
        "id": "pGvJey1ZJgT9",
        "colab": {
          "base_uri": "https://localhost:8080/"
        },
        "outputId": "24b43e34-9ead-4d7b-b90d-4de9566ff867"
      },
      "execution_count": 24,
      "outputs": [
        {
          "output_type": "stream",
          "name": "stdout",
          "text": [
            "tensor([[[[9.3123e-01, 1.3840e-01, 3.6953e-01, 3.7261e-01, 8.2094e-01,\n",
            "           7.2647e-01, 8.2672e-01],\n",
            "          [3.7868e-01, 8.9268e-01, 8.9600e-01, 8.3244e-01, 8.9835e-01,\n",
            "           7.3443e-01, 9.7026e-01],\n",
            "          [9.5104e-01, 6.2958e-01, 6.1556e-01, 3.0867e-01, 6.8142e-01,\n",
            "           6.8003e-01, 1.4473e-01],\n",
            "          [9.6743e-01, 1.9610e-01, 4.9623e-02, 9.2315e-02, 6.5201e-01,\n",
            "           2.9891e-01, 7.8114e-02],\n",
            "          [4.0820e-01, 7.1524e-02, 8.6083e-01, 9.2668e-02, 4.8212e-02,\n",
            "           4.6808e-01, 1.7158e-01],\n",
            "          [1.4990e-01, 5.5666e-02, 1.7938e-01, 7.6592e-01, 1.2726e-04,\n",
            "           9.4631e-01, 8.7242e-01]],\n",
            "\n",
            "         [[4.7317e-01, 3.1668e-01, 9.1256e-01, 9.1202e-01, 1.9535e-01,\n",
            "           3.9465e-01, 4.3547e-01],\n",
            "          [7.0479e-01, 1.6735e-02, 8.3460e-01, 5.1943e-01, 1.3970e-01,\n",
            "           1.3791e-02, 2.1792e-01],\n",
            "          [1.7971e-01, 5.2598e-01, 1.0978e-01, 4.7437e-01, 9.4349e-02,\n",
            "           3.9404e-01, 6.9651e-01],\n",
            "          [4.6643e-01, 2.0329e-01, 1.2064e-01, 1.7227e-01, 4.3599e-02,\n",
            "           3.4221e-01, 6.4794e-01],\n",
            "          [6.7091e-01, 1.5152e-01, 2.2837e-01, 7.4738e-01, 1.1587e-01,\n",
            "           6.1299e-01, 2.5212e-01],\n",
            "          [7.3603e-01, 6.8079e-01, 2.4952e-02, 6.4566e-01, 5.4981e-01,\n",
            "           6.1834e-01, 7.6562e-01]],\n",
            "\n",
            "         [[2.5920e-01, 2.4874e-01, 5.8443e-01, 3.7023e-01, 3.1724e-01,\n",
            "           9.7342e-01, 5.9303e-01],\n",
            "          [9.3785e-01, 5.2837e-01, 7.4199e-01, 1.6019e-01, 1.7677e-01,\n",
            "           5.9129e-03, 8.9139e-01],\n",
            "          [8.1684e-02, 5.3855e-01, 9.6444e-01, 6.3429e-01, 3.8109e-01,\n",
            "           4.4642e-01, 4.4051e-01],\n",
            "          [5.0528e-01, 6.9566e-01, 7.5733e-01, 9.9201e-01, 8.9624e-01,\n",
            "           1.2710e-01, 2.5112e-01],\n",
            "          [3.6067e-01, 4.3602e-02, 9.5521e-01, 5.7730e-01, 9.0231e-01,\n",
            "           5.4696e-01, 2.1156e-01],\n",
            "          [3.1644e-02, 8.2929e-02, 7.4335e-01, 8.8383e-01, 5.9420e-01,\n",
            "           8.6228e-01, 9.3201e-01]],\n",
            "\n",
            "         [[9.1495e-02, 8.0760e-01, 9.5468e-02, 4.0878e-01, 1.6696e-02,\n",
            "           4.6721e-02, 5.1013e-01],\n",
            "          [8.5587e-01, 7.6825e-01, 7.7100e-01, 5.7254e-01, 8.6838e-01,\n",
            "           8.5632e-02, 2.4655e-01],\n",
            "          [7.2722e-01, 9.5704e-01, 9.5823e-01, 4.2116e-01, 7.9924e-01,\n",
            "           8.7212e-01, 3.7781e-01],\n",
            "          [1.9649e-01, 6.5071e-01, 8.5953e-01, 6.7590e-01, 6.6165e-01,\n",
            "           3.9241e-01, 4.5067e-01],\n",
            "          [9.1205e-01, 9.2304e-01, 9.6349e-01, 8.3163e-01, 4.2898e-02,\n",
            "           7.1742e-02, 2.9553e-01],\n",
            "          [7.7212e-01, 3.9894e-01, 1.4437e-01, 7.0365e-01, 3.2228e-01,\n",
            "           9.6846e-01, 1.1743e-01]],\n",
            "\n",
            "         [[8.2848e-01, 9.1178e-01, 6.8312e-01, 3.0245e-01, 1.4794e-01,\n",
            "           1.2830e-01, 3.3776e-01],\n",
            "          [8.0085e-01, 7.5066e-01, 7.2568e-01, 3.0108e-01, 8.4657e-01,\n",
            "           1.7775e-01, 3.4601e-01],\n",
            "          [4.2798e-01, 8.2364e-01, 6.6974e-01, 1.9302e-01, 2.8709e-01,\n",
            "           8.2335e-01, 7.9802e-01],\n",
            "          [6.4032e-01, 6.6193e-01, 4.4644e-01, 6.0425e-01, 5.9188e-01,\n",
            "           5.0419e-01, 8.6255e-01],\n",
            "          [8.3432e-01, 8.9160e-01, 2.0724e-03, 1.5433e-01, 2.7397e-01,\n",
            "           6.8774e-01, 2.9960e-01],\n",
            "          [2.7054e-01, 1.1601e-01, 9.5013e-01, 2.3196e-01, 1.7314e-01,\n",
            "           5.9629e-01, 5.9305e-01]]],\n",
            "\n",
            "\n",
            "        [[[1.3577e-01, 9.3089e-01, 1.7372e-01, 8.2453e-01, 3.0579e-01,\n",
            "           6.8557e-01, 6.2035e-01],\n",
            "          [3.9552e-01, 5.1621e-01, 5.9005e-01, 4.2240e-01, 3.0142e-01,\n",
            "           9.3338e-01, 1.6233e-01],\n",
            "          [7.5870e-01, 4.5484e-02, 9.7601e-01, 6.7914e-01, 4.4362e-01,\n",
            "           8.8699e-01, 8.2824e-01],\n",
            "          [3.6364e-01, 6.2532e-01, 7.3324e-01, 1.3312e-01, 3.1476e-01,\n",
            "           3.4118e-01, 6.0503e-01],\n",
            "          [4.7181e-01, 7.2362e-01, 3.4290e-01, 1.3075e-02, 5.9717e-02,\n",
            "           8.5552e-02, 7.7321e-01],\n",
            "          [3.1804e-01, 7.9311e-01, 5.2765e-01, 4.2411e-01, 1.5571e-01,\n",
            "           8.1791e-01, 9.8949e-01]],\n",
            "\n",
            "         [[9.1874e-01, 3.2359e-01, 2.8068e-01, 2.2528e-01, 9.8475e-01,\n",
            "           4.6565e-01, 4.7330e-01],\n",
            "          [4.3586e-01, 8.2898e-01, 2.2930e-01, 7.4221e-01, 2.2320e-01,\n",
            "           9.5440e-01, 5.7421e-01],\n",
            "          [7.0069e-01, 3.5606e-01, 5.5739e-01, 6.2558e-01, 6.1426e-01,\n",
            "           3.2756e-01, 9.7093e-01],\n",
            "          [7.3141e-01, 9.9652e-01, 1.6974e-01, 3.7547e-01, 2.1903e-01,\n",
            "           7.9397e-01, 3.3264e-01],\n",
            "          [1.6758e-02, 6.6469e-01, 4.0198e-01, 3.9652e-01, 5.0091e-01,\n",
            "           6.8559e-01, 2.0360e-01],\n",
            "          [3.3670e-01, 2.8530e-01, 5.5384e-01, 6.0981e-01, 9.2029e-01,\n",
            "           6.0306e-01, 8.9766e-01]],\n",
            "\n",
            "         [[6.3820e-01, 7.1413e-01, 5.5434e-01, 7.3428e-02, 6.3336e-01,\n",
            "           1.1769e-01, 1.6782e-01],\n",
            "          [6.2518e-01, 9.1985e-01, 3.8110e-01, 3.2408e-01, 6.9800e-01,\n",
            "           7.2999e-01, 1.9572e-01],\n",
            "          [4.1508e-01, 8.0071e-01, 3.5357e-01, 7.0057e-01, 8.5700e-01,\n",
            "           9.2353e-01, 9.5352e-01],\n",
            "          [8.6503e-01, 6.1733e-01, 9.3081e-01, 5.8438e-01, 8.7596e-01,\n",
            "           8.5224e-01, 6.2059e-01],\n",
            "          [1.6466e-01, 2.1599e-01, 2.5321e-01, 3.8048e-02, 5.9833e-01,\n",
            "           4.4955e-01, 2.2432e-01],\n",
            "          [5.4412e-01, 9.2986e-01, 6.7029e-01, 1.1457e-01, 4.4941e-01,\n",
            "           7.6744e-01, 3.0252e-01]],\n",
            "\n",
            "         [[9.8864e-01, 7.8334e-01, 2.7199e-01, 1.5036e-01, 6.5904e-01,\n",
            "           5.8454e-01, 9.0555e-01],\n",
            "          [3.5724e-02, 3.3394e-01, 7.9568e-02, 5.8835e-01, 6.5324e-01,\n",
            "           6.8371e-01, 1.6937e-02],\n",
            "          [1.5703e-01, 6.2364e-02, 6.2102e-01, 3.5672e-02, 7.4915e-02,\n",
            "           3.0504e-01, 7.4500e-01],\n",
            "          [9.8667e-01, 6.7001e-01, 9.9765e-01, 6.9542e-01, 7.5399e-01,\n",
            "           6.7912e-01, 2.2480e-01],\n",
            "          [9.0005e-01, 4.8324e-01, 4.5145e-01, 2.4809e-01, 4.8028e-01,\n",
            "           6.2070e-03, 6.5300e-02],\n",
            "          [8.0983e-01, 4.2994e-01, 9.3476e-02, 9.0481e-01, 3.1110e-01,\n",
            "           5.3164e-01, 5.5885e-01]],\n",
            "\n",
            "         [[2.4541e-02, 2.7559e-01, 8.0204e-01, 5.3439e-01, 5.8987e-01,\n",
            "           4.5019e-01, 2.6681e-01],\n",
            "          [6.5454e-01, 2.3977e-01, 9.3772e-01, 4.5353e-01, 7.5816e-01,\n",
            "           2.7350e-02, 6.2527e-01],\n",
            "          [6.3464e-01, 4.0286e-02, 3.2980e-01, 5.5897e-01, 6.0568e-01,\n",
            "           5.7087e-01, 8.1471e-01],\n",
            "          [5.5783e-01, 3.2334e-01, 8.0220e-02, 4.6230e-01, 3.7419e-01,\n",
            "           6.9841e-01, 5.4590e-01],\n",
            "          [1.2792e-01, 5.4842e-01, 5.1492e-01, 1.5965e-01, 1.7668e-02,\n",
            "           8.0784e-01, 8.5200e-02],\n",
            "          [4.3419e-01, 8.8102e-02, 2.9239e-01, 9.8199e-01, 6.9820e-01,\n",
            "           1.5500e-01, 9.1139e-01]]],\n",
            "\n",
            "\n",
            "        [[[3.4404e-01, 6.2561e-01, 8.5606e-02, 6.5658e-01, 1.2438e-01,\n",
            "           2.0891e-01, 6.8645e-03],\n",
            "          [4.9230e-01, 4.9404e-01, 4.8473e-01, 8.4398e-01, 4.9671e-01,\n",
            "           8.0602e-01, 3.3313e-01],\n",
            "          [2.6506e-01, 8.8186e-01, 6.3696e-01, 9.3318e-01, 1.2455e-01,\n",
            "           4.5566e-01, 4.6452e-01],\n",
            "          [5.6421e-01, 9.0428e-01, 6.0240e-01, 4.7653e-01, 2.7405e-01,\n",
            "           8.3164e-01, 8.2747e-01],\n",
            "          [2.0499e-01, 7.6801e-01, 2.9380e-02, 4.6888e-01, 7.4392e-01,\n",
            "           7.7900e-01, 8.0703e-01],\n",
            "          [4.9083e-01, 3.9190e-01, 7.6165e-01, 4.5212e-01, 6.0932e-01,\n",
            "           9.3844e-01, 4.9768e-01]],\n",
            "\n",
            "         [[6.9768e-01, 3.5927e-01, 3.9558e-02, 6.0324e-01, 1.8442e-01,\n",
            "           9.1321e-01, 7.4084e-01],\n",
            "          [6.2095e-01, 8.7779e-01, 1.1035e-01, 4.2566e-01, 8.2342e-01,\n",
            "           2.8410e-01, 8.3243e-01],\n",
            "          [9.6402e-01, 1.1351e-01, 9.6464e-01, 3.9424e-01, 8.1274e-01,\n",
            "           3.9119e-01, 5.7300e-01],\n",
            "          [2.3526e-01, 3.9475e-01, 9.9706e-01, 3.1111e-01, 3.0723e-01,\n",
            "           8.5293e-01, 9.4705e-01],\n",
            "          [6.8071e-01, 3.0603e-01, 1.2145e-01, 5.1964e-01, 2.8307e-01,\n",
            "           9.7582e-01, 7.9885e-02],\n",
            "          [1.4567e-01, 7.9897e-01, 4.7652e-01, 3.6833e-02, 4.4895e-01,\n",
            "           6.2549e-01, 5.9496e-01]],\n",
            "\n",
            "         [[5.5091e-01, 5.2975e-01, 9.7701e-01, 2.2484e-01, 3.6321e-01,\n",
            "           5.0697e-01, 4.7094e-01],\n",
            "          [2.7181e-03, 2.2763e-01, 8.3027e-01, 4.6304e-01, 6.7336e-01,\n",
            "           1.5726e-01, 6.1425e-01],\n",
            "          [1.1078e-01, 5.9684e-01, 5.6033e-01, 2.0193e-01, 5.4519e-02,\n",
            "           2.3179e-02, 8.4988e-01],\n",
            "          [4.5031e-01, 1.6429e-01, 5.5674e-01, 4.3958e-01, 3.3360e-01,\n",
            "           1.2686e-01, 6.8956e-01],\n",
            "          [5.6495e-01, 8.5153e-01, 2.3184e-01, 1.5823e-02, 7.3396e-02,\n",
            "           9.7172e-01, 8.3421e-01],\n",
            "          [9.6939e-01, 5.0093e-01, 7.2241e-01, 9.6822e-01, 7.3554e-01,\n",
            "           5.9575e-01, 3.9346e-02]],\n",
            "\n",
            "         [[2.8953e-02, 1.1408e-01, 2.1772e-01, 8.0882e-02, 2.1358e-01,\n",
            "           5.5932e-01, 7.5721e-01],\n",
            "          [7.3462e-01, 4.2075e-01, 7.9497e-01, 1.9830e-01, 3.3070e-01,\n",
            "           4.8858e-01, 4.2606e-01],\n",
            "          [8.6848e-01, 3.1922e-02, 1.0847e-01, 3.5680e-01, 9.6096e-01,\n",
            "           5.9228e-01, 1.9763e-01],\n",
            "          [6.8525e-01, 8.4297e-01, 7.5061e-01, 1.9255e-01, 1.1060e-01,\n",
            "           7.0181e-01, 7.9817e-01],\n",
            "          [6.2502e-01, 4.9979e-01, 1.8849e-01, 6.8585e-02, 3.2210e-02,\n",
            "           3.0505e-01, 5.6351e-01],\n",
            "          [9.0901e-01, 1.4111e-01, 4.0122e-01, 3.6918e-01, 3.1892e-01,\n",
            "           5.6318e-01, 7.0875e-01]],\n",
            "\n",
            "         [[6.5851e-01, 8.3063e-01, 6.3408e-02, 9.0081e-01, 6.1501e-01,\n",
            "           2.1787e-01, 4.6006e-01],\n",
            "          [4.8150e-01, 9.7840e-01, 5.6596e-01, 8.1616e-01, 8.6737e-01,\n",
            "           8.8086e-01, 5.8051e-01],\n",
            "          [8.6894e-01, 5.0913e-01, 5.8848e-01, 3.3659e-01, 8.8375e-01,\n",
            "           7.7097e-01, 8.0839e-01],\n",
            "          [3.4006e-02, 9.4515e-01, 3.1740e-01, 6.7675e-01, 9.5132e-01,\n",
            "           8.5232e-01, 1.8141e-01],\n",
            "          [6.3233e-01, 8.0064e-01, 7.1163e-01, 7.9642e-01, 9.7940e-01,\n",
            "           6.4549e-01, 5.9786e-01],\n",
            "          [3.1103e-01, 6.2395e-01, 5.4639e-01, 6.1524e-02, 2.9154e-01,\n",
            "           5.7268e-01, 5.6230e-01]]],\n",
            "\n",
            "\n",
            "        [[[3.9478e-01, 1.5787e-01, 3.4298e-01, 6.9135e-01, 9.4793e-01,\n",
            "           4.9107e-01, 7.3161e-01],\n",
            "          [8.2951e-01, 4.7470e-03, 3.8024e-01, 4.3328e-01, 7.7672e-01,\n",
            "           3.3997e-01, 2.3508e-01],\n",
            "          [6.4895e-01, 7.7814e-01, 4.7328e-01, 9.6431e-01, 2.0310e-01,\n",
            "           7.5984e-01, 3.8505e-01],\n",
            "          [5.8602e-01, 1.9508e-01, 5.4291e-01, 6.8565e-01, 7.8517e-01,\n",
            "           6.4517e-02, 3.8892e-01],\n",
            "          [9.9853e-01, 6.6224e-01, 2.9333e-01, 9.0674e-01, 6.8177e-02,\n",
            "           9.6153e-01, 1.0339e-01],\n",
            "          [6.5185e-01, 9.9668e-01, 8.0843e-01, 2.3000e-01, 7.0558e-01,\n",
            "           3.9015e-01, 6.8159e-01]],\n",
            "\n",
            "         [[1.4094e-01, 4.8114e-01, 9.4458e-01, 1.1086e-01, 2.4330e-01,\n",
            "           7.1778e-01, 4.1392e-01],\n",
            "          [8.5159e-02, 1.7016e-01, 5.6351e-01, 8.4070e-01, 3.6073e-02,\n",
            "           7.3058e-01, 6.3857e-01],\n",
            "          [9.9698e-01, 5.0960e-01, 5.5799e-01, 4.6406e-01, 3.2497e-01,\n",
            "           5.0448e-01, 4.8077e-01],\n",
            "          [5.2620e-01, 2.1161e-01, 8.9173e-01, 6.3342e-01, 8.0344e-01,\n",
            "           7.1854e-01, 6.0636e-02],\n",
            "          [3.0820e-02, 3.1553e-01, 8.9728e-01, 5.1249e-01, 7.2315e-01,\n",
            "           9.6994e-01, 2.7101e-02],\n",
            "          [1.6354e-01, 1.8443e-01, 1.2107e-01, 3.5013e-01, 5.6204e-01,\n",
            "           6.6743e-02, 1.9754e-01]],\n",
            "\n",
            "         [[7.7693e-01, 9.8907e-01, 5.6839e-01, 7.8366e-01, 2.7319e-01,\n",
            "           7.7188e-01, 2.7427e-01],\n",
            "          [4.2204e-01, 9.4652e-01, 2.7430e-01, 7.6639e-01, 2.7546e-01,\n",
            "           6.0746e-01, 8.4911e-01],\n",
            "          [1.4659e-01, 8.2645e-02, 7.5479e-01, 4.7340e-01, 2.5894e-01,\n",
            "           5.0620e-01, 9.6187e-01],\n",
            "          [3.2249e-01, 8.1476e-01, 7.4466e-01, 5.5548e-01, 6.5102e-01,\n",
            "           6.6992e-01, 4.8305e-01],\n",
            "          [2.0516e-01, 6.5064e-01, 4.1782e-01, 4.2147e-01, 8.1123e-01,\n",
            "           4.9938e-01, 7.2711e-01],\n",
            "          [1.1635e-01, 6.4885e-01, 7.0406e-01, 5.1391e-02, 8.8285e-01,\n",
            "           7.5435e-01, 9.3246e-01]],\n",
            "\n",
            "         [[1.2372e-01, 5.4522e-01, 7.1164e-01, 1.1294e-01, 1.9784e-01,\n",
            "           9.4219e-01, 4.6757e-01],\n",
            "          [5.4544e-01, 3.1632e-01, 8.2978e-01, 3.5906e-01, 4.7136e-01,\n",
            "           2.0719e-02, 3.4160e-02],\n",
            "          [7.9745e-02, 5.4001e-03, 4.0933e-01, 3.9171e-01, 8.0241e-01,\n",
            "           2.8814e-01, 4.0218e-01],\n",
            "          [4.4482e-02, 6.1974e-01, 9.3244e-01, 3.0240e-01, 5.5452e-01,\n",
            "           2.9051e-01, 8.0482e-01],\n",
            "          [7.3848e-01, 4.2711e-02, 2.7213e-01, 2.9339e-02, 2.4829e-01,\n",
            "           2.7993e-01, 9.9484e-01],\n",
            "          [5.4584e-01, 3.5476e-01, 5.8508e-01, 2.1962e-01, 4.3861e-01,\n",
            "           6.1787e-01, 1.0552e-01]],\n",
            "\n",
            "         [[5.5671e-01, 6.6117e-01, 6.7403e-01, 4.8864e-01, 5.3666e-01,\n",
            "           4.2195e-02, 5.5504e-02],\n",
            "          [1.0073e-01, 7.7302e-01, 5.5822e-01, 9.4436e-01, 6.8061e-02,\n",
            "           3.1504e-02, 6.2127e-01],\n",
            "          [3.0660e-01, 1.2547e-01, 1.2960e-01, 4.1888e-01, 6.4645e-01,\n",
            "           1.0136e-01, 4.2815e-01],\n",
            "          [8.1003e-02, 5.6089e-01, 9.2272e-01, 3.0012e-01, 4.9652e-01,\n",
            "           9.4200e-01, 9.8751e-01],\n",
            "          [7.0122e-02, 1.7236e-01, 8.1835e-01, 8.2678e-01, 7.6553e-01,\n",
            "           6.3105e-01, 4.7004e-01],\n",
            "          [2.4885e-01, 8.0725e-01, 4.8997e-01, 6.7611e-02, 9.2795e-01,\n",
            "           9.3726e-01, 7.7731e-01]]]])\n"
          ]
        }
      ]
    },
    {
      "cell_type": "code",
      "source": [],
      "metadata": {
        "id": "nRDupIezQhUn"
      },
      "execution_count": 24,
      "outputs": []
    },
    {
      "cell_type": "markdown",
      "source": [
        "###Tensors operations"
      ],
      "metadata": {
        "id": "RIxA2lMyU7ai"
      }
    },
    {
      "cell_type": "code",
      "source": [
        "tensor=torch.tensor([1,2,3])\n",
        "tensor+1"
      ],
      "metadata": {
        "colab": {
          "base_uri": "https://localhost:8080/"
        },
        "id": "4Sa2iT1LVCxC",
        "outputId": "f5641df2-e494-4ccb-a99e-3ce157a89b20"
      },
      "execution_count": 25,
      "outputs": [
        {
          "output_type": "execute_result",
          "data": {
            "text/plain": [
              "tensor([2, 3, 4])"
            ]
          },
          "metadata": {},
          "execution_count": 25
        }
      ]
    },
    {
      "cell_type": "code",
      "source": [
        "(tensor+1)*(5+5)"
      ],
      "metadata": {
        "colab": {
          "base_uri": "https://localhost:8080/"
        },
        "id": "GixnQGwCAi6s",
        "outputId": "a96f8676-c607-4a9a-ad9f-2c016f98119e"
      },
      "execution_count": 26,
      "outputs": [
        {
          "output_type": "execute_result",
          "data": {
            "text/plain": [
              "tensor([20, 30, 40])"
            ]
          },
          "metadata": {},
          "execution_count": 26
        }
      ]
    },
    {
      "cell_type": "code",
      "source": [
        "%%time\n",
        "torch.matmul(tensor,tensor)"
      ],
      "metadata": {
        "colab": {
          "base_uri": "https://localhost:8080/"
        },
        "id": "YJmcw170AsyT",
        "outputId": "3b779b60-92e8-4884-ead9-05464d3ec1b4"
      },
      "execution_count": 27,
      "outputs": [
        {
          "output_type": "stream",
          "name": "stdout",
          "text": [
            "CPU times: user 1.1 ms, sys: 15 µs, total: 1.12 ms\n",
            "Wall time: 15.3 ms\n"
          ]
        },
        {
          "output_type": "execute_result",
          "data": {
            "text/plain": [
              "tensor(14)"
            ]
          },
          "metadata": {},
          "execution_count": 27
        }
      ]
    },
    {
      "cell_type": "code",
      "source": [
        "%%time\n",
        "value=0\n",
        "for i in range(len(tensor)):\n",
        "  value+=tensor[i]*tensor[i]\n",
        "print(value)"
      ],
      "metadata": {
        "colab": {
          "base_uri": "https://localhost:8080/"
        },
        "id": "uRcnJc92CcBl",
        "outputId": "05c023bd-5e57-4792-dd16-373dc99c0984"
      },
      "execution_count": 28,
      "outputs": [
        {
          "output_type": "stream",
          "name": "stdout",
          "text": [
            "tensor(14)\n",
            "CPU times: user 1.33 ms, sys: 765 µs, total: 2.1 ms\n",
            "Wall time: 2.36 ms\n"
          ]
        }
      ]
    },
    {
      "cell_type": "code",
      "source": [
        "matrix_multi=torch.matmul(torch.rand(3,2), torch.rand(2,3))\n",
        "print(matrix_multi)"
      ],
      "metadata": {
        "colab": {
          "base_uri": "https://localhost:8080/"
        },
        "id": "BQaEAOQVCzX3",
        "outputId": "6859f56c-33ec-4971-c925-e3199495df42"
      },
      "execution_count": 29,
      "outputs": [
        {
          "output_type": "stream",
          "name": "stdout",
          "text": [
            "tensor([[1.4957, 0.3739, 1.4697],\n",
            "        [0.4723, 0.1182, 0.4498],\n",
            "        [0.8853, 0.2213, 0.8678]])\n"
          ]
        }
      ]
    },
    {
      "cell_type": "code",
      "source": [
        "mean_=torch.arange(0,100,8)\n",
        "print(mean_)\n",
        "mean_.dtype"
      ],
      "metadata": {
        "colab": {
          "base_uri": "https://localhost:8080/"
        },
        "id": "TcgHQa53Ep12",
        "outputId": "6ffba096-5107-4749-f315-11001550e776"
      },
      "execution_count": 31,
      "outputs": [
        {
          "output_type": "stream",
          "name": "stdout",
          "text": [
            "tensor([ 0,  8, 16, 24, 32, 40, 48, 56, 64, 72, 80, 88, 96])\n"
          ]
        },
        {
          "output_type": "execute_result",
          "data": {
            "text/plain": [
              "torch.int64"
            ]
          },
          "metadata": {},
          "execution_count": 31
        }
      ]
    },
    {
      "cell_type": "code",
      "source": [
        "mean_.min(),torch.min(mean_)"
      ],
      "metadata": {
        "colab": {
          "base_uri": "https://localhost:8080/"
        },
        "id": "3tdvSpSCJdXW",
        "outputId": "d2418eb1-e3bc-4880-9ae7-f8bbe4dadea8"
      },
      "execution_count": 32,
      "outputs": [
        {
          "output_type": "execute_result",
          "data": {
            "text/plain": [
              "(tensor(0), tensor(0))"
            ]
          },
          "metadata": {},
          "execution_count": 32
        }
      ]
    },
    {
      "cell_type": "code",
      "source": [
        "torch.max(mean_)"
      ],
      "metadata": {
        "colab": {
          "base_uri": "https://localhost:8080/"
        },
        "id": "SZnx4EKEJhC0",
        "outputId": "52bf4f1b-0d78-4c2a-843f-985390535c5d"
      },
      "execution_count": 33,
      "outputs": [
        {
          "output_type": "execute_result",
          "data": {
            "text/plain": [
              "tensor(96)"
            ]
          },
          "metadata": {},
          "execution_count": 33
        }
      ]
    },
    {
      "cell_type": "code",
      "source": [
        "mean_.max()"
      ],
      "metadata": {
        "colab": {
          "base_uri": "https://localhost:8080/"
        },
        "id": "XrbmWUCbJ9Fv",
        "outputId": "d8bd6553-adca-4491-da95-67548f2e6182"
      },
      "execution_count": 34,
      "outputs": [
        {
          "output_type": "execute_result",
          "data": {
            "text/plain": [
              "tensor(96)"
            ]
          },
          "metadata": {},
          "execution_count": 34
        }
      ]
    },
    {
      "cell_type": "code",
      "source": [
        "torch.mean(mean_.type(torch.float32))"
      ],
      "metadata": {
        "colab": {
          "base_uri": "https://localhost:8080/"
        },
        "id": "rxQf7LTkKAoP",
        "outputId": "f6708cc1-d228-4922-b514-324a4d803dbc"
      },
      "execution_count": 35,
      "outputs": [
        {
          "output_type": "execute_result",
          "data": {
            "text/plain": [
              "tensor(48.)"
            ]
          },
          "metadata": {},
          "execution_count": 35
        }
      ]
    },
    {
      "cell_type": "code",
      "source": [
        "mean_.argmax()"
      ],
      "metadata": {
        "colab": {
          "base_uri": "https://localhost:8080/"
        },
        "id": "sJtIdA83KHKm",
        "outputId": "f6bd5157-9d0b-4685-f181-6c62f7a9a697"
      },
      "execution_count": 36,
      "outputs": [
        {
          "output_type": "execute_result",
          "data": {
            "text/plain": [
              "tensor(12)"
            ]
          },
          "metadata": {},
          "execution_count": 36
        }
      ]
    },
    {
      "cell_type": "code",
      "source": [
        "mean_.mode()"
      ],
      "metadata": {
        "colab": {
          "base_uri": "https://localhost:8080/"
        },
        "id": "7YBUY4iULuaS",
        "outputId": "04094c5b-08f7-4c5e-9e35-a9be59a22b32"
      },
      "execution_count": 37,
      "outputs": [
        {
          "output_type": "execute_result",
          "data": {
            "text/plain": [
              "torch.return_types.mode(\n",
              "values=tensor(0),\n",
              "indices=tensor(0))"
            ]
          },
          "metadata": {},
          "execution_count": 37
        }
      ]
    },
    {
      "cell_type": "code",
      "source": [
        "mean_.median()"
      ],
      "metadata": {
        "colab": {
          "base_uri": "https://localhost:8080/"
        },
        "id": "lVRbKGbYRXBw",
        "outputId": "c33b67c5-d99f-4868-e09d-dc34baa4f34d"
      },
      "execution_count": 38,
      "outputs": [
        {
          "output_type": "execute_result",
          "data": {
            "text/plain": [
              "tensor(48)"
            ]
          },
          "metadata": {},
          "execution_count": 38
        }
      ]
    },
    {
      "cell_type": "code",
      "source": [
        "x=torch.arange(1,13,1)\n",
        "print({x})"
      ],
      "metadata": {
        "colab": {
          "base_uri": "https://localhost:8080/"
        },
        "id": "kwKLu3WQRdnf",
        "outputId": "3784c6ed-27c0-4faf-d5a1-4963b3c24180"
      },
      "execution_count": 39,
      "outputs": [
        {
          "output_type": "stream",
          "name": "stdout",
          "text": [
            "{tensor([ 1,  2,  3,  4,  5,  6,  7,  8,  9, 10, 11, 12])}\n"
          ]
        }
      ]
    },
    {
      "cell_type": "code",
      "source": [
        "x.shape"
      ],
      "metadata": {
        "colab": {
          "base_uri": "https://localhost:8080/"
        },
        "id": "VckPmecMXDsa",
        "outputId": "0098993c-22c3-49c7-c578-78c974f56fa8"
      },
      "execution_count": 40,
      "outputs": [
        {
          "output_type": "execute_result",
          "data": {
            "text/plain": [
              "torch.Size([12])"
            ]
          },
          "metadata": {},
          "execution_count": 40
        }
      ]
    },
    {
      "cell_type": "code",
      "source": [
        "x.ndim"
      ],
      "metadata": {
        "colab": {
          "base_uri": "https://localhost:8080/"
        },
        "id": "lSBfk3b0Xi41",
        "outputId": "2f392c6d-fc70-4f44-ddf8-3b469cf54da7"
      },
      "execution_count": 41,
      "outputs": [
        {
          "output_type": "execute_result",
          "data": {
            "text/plain": [
              "1"
            ]
          },
          "metadata": {},
          "execution_count": 41
        }
      ]
    },
    {
      "cell_type": "code",
      "source": [
        "x.ndim"
      ],
      "metadata": {
        "colab": {
          "base_uri": "https://localhost:8080/"
        },
        "id": "DVGrAezvXlDg",
        "outputId": "40f9b81a-571f-4c89-a760-1d900ccccf77"
      },
      "execution_count": 42,
      "outputs": [
        {
          "output_type": "execute_result",
          "data": {
            "text/plain": [
              "1"
            ]
          },
          "metadata": {},
          "execution_count": 42
        }
      ]
    },
    {
      "cell_type": "code",
      "source": [
        "x_reshaping=x.reshape(2,2,3)\n",
        "print(x_reshaping)"
      ],
      "metadata": {
        "colab": {
          "base_uri": "https://localhost:8080/"
        },
        "id": "fAeb7SWoXmMR",
        "outputId": "d5e1c88d-23db-4902-8523-81cfec3f4612"
      },
      "execution_count": 43,
      "outputs": [
        {
          "output_type": "stream",
          "name": "stdout",
          "text": [
            "tensor([[[ 1,  2,  3],\n",
            "         [ 4,  5,  6]],\n",
            "\n",
            "        [[ 7,  8,  9],\n",
            "         [10, 11, 12]]])\n"
          ]
        }
      ]
    },
    {
      "cell_type": "code",
      "source": [
        "x.view(2,3,2)"
      ],
      "metadata": {
        "colab": {
          "base_uri": "https://localhost:8080/"
        },
        "id": "4qRtpDCFXyxW",
        "outputId": "545d5af7-b281-4470-8b2e-53b65c2735fb"
      },
      "execution_count": 44,
      "outputs": [
        {
          "output_type": "execute_result",
          "data": {
            "text/plain": [
              "tensor([[[ 1,  2],\n",
              "         [ 3,  4],\n",
              "         [ 5,  6]],\n",
              "\n",
              "        [[ 7,  8],\n",
              "         [ 9, 10],\n",
              "         [11, 12]]])"
            ]
          },
          "metadata": {},
          "execution_count": 44
        }
      ]
    },
    {
      "cell_type": "code",
      "source": [
        "x"
      ],
      "metadata": {
        "colab": {
          "base_uri": "https://localhost:8080/"
        },
        "id": "CBeb5_2wYgy5",
        "outputId": "2fddecb0-e3c0-4dc8-f035-2f629b443e78"
      },
      "execution_count": 45,
      "outputs": [
        {
          "output_type": "execute_result",
          "data": {
            "text/plain": [
              "tensor([ 1,  2,  3,  4,  5,  6,  7,  8,  9, 10, 11, 12])"
            ]
          },
          "metadata": {},
          "execution_count": 45
        }
      ]
    },
    {
      "cell_type": "code",
      "source": [
        "z=x.view(1,12)\n",
        "print(z)"
      ],
      "metadata": {
        "colab": {
          "base_uri": "https://localhost:8080/"
        },
        "id": "ThwmvCZNZRg3",
        "outputId": "5e378bad-109f-417f-fcea-7ff0cd3082e2"
      },
      "execution_count": 46,
      "outputs": [
        {
          "output_type": "stream",
          "name": "stdout",
          "text": [
            "tensor([[ 1,  2,  3,  4,  5,  6,  7,  8,  9, 10, 11, 12]])\n"
          ]
        }
      ]
    },
    {
      "cell_type": "code",
      "source": [
        "z[:,0]=3\n",
        "z"
      ],
      "metadata": {
        "colab": {
          "base_uri": "https://localhost:8080/"
        },
        "id": "WA3m02w4ZeEW",
        "outputId": "9a91e214-a2f9-490e-c99d-6dac65a1312c"
      },
      "execution_count": 51,
      "outputs": [
        {
          "output_type": "execute_result",
          "data": {
            "text/plain": [
              "tensor([[ 3,  2,  3,  4,  5,  6,  7,  8,  9, 10, 11, 12]])"
            ]
          },
          "metadata": {},
          "execution_count": 51
        }
      ]
    },
    {
      "cell_type": "code",
      "source": [
        "x_stacked=torch.stack([x,x,x],dim=0)\n",
        "print(x_stacked)"
      ],
      "metadata": {
        "colab": {
          "base_uri": "https://localhost:8080/"
        },
        "id": "MwV0RfECZlvU",
        "outputId": "8ee4b503-1aed-4d93-9ba3-6eae36086bcb"
      },
      "execution_count": 52,
      "outputs": [
        {
          "output_type": "stream",
          "name": "stdout",
          "text": [
            "tensor([[ 3,  2,  3,  4,  5,  6,  7,  8,  9, 10, 11, 12],\n",
            "        [ 3,  2,  3,  4,  5,  6,  7,  8,  9, 10, 11, 12],\n",
            "        [ 3,  2,  3,  4,  5,  6,  7,  8,  9, 10, 11, 12]])\n"
          ]
        }
      ]
    },
    {
      "cell_type": "code",
      "source": [
        "x=torch.arange(1,10,1).reshape(3,3,1)\n",
        "print(x)"
      ],
      "metadata": {
        "colab": {
          "base_uri": "https://localhost:8080/"
        },
        "id": "uCmRgWuxZ-DT",
        "outputId": "978de6e5-9f9b-4cff-8660-9bdf1448d9b1"
      },
      "execution_count": 53,
      "outputs": [
        {
          "output_type": "stream",
          "name": "stdout",
          "text": [
            "tensor([[[1],\n",
            "         [2],\n",
            "         [3]],\n",
            "\n",
            "        [[4],\n",
            "         [5],\n",
            "         [6]],\n",
            "\n",
            "        [[7],\n",
            "         [8],\n",
            "         [9]]])\n"
          ]
        }
      ]
    },
    {
      "cell_type": "code",
      "source": [
        "x[2][1]"
      ],
      "metadata": {
        "colab": {
          "base_uri": "https://localhost:8080/"
        },
        "id": "8CxzuHNqnC5w",
        "outputId": "82ee3c19-104a-49a8-a9ad-d4b7949021d1"
      },
      "execution_count": 54,
      "outputs": [
        {
          "output_type": "execute_result",
          "data": {
            "text/plain": [
              "tensor([8])"
            ]
          },
          "metadata": {},
          "execution_count": 54
        }
      ]
    },
    {
      "cell_type": "code",
      "source": [
        "x=torch.arange(1,18,2).reshape(1,3,3)\n",
        "print(x)"
      ],
      "metadata": {
        "id": "pn6mbAXhnPE9",
        "colab": {
          "base_uri": "https://localhost:8080/"
        },
        "outputId": "0003266e-cd7f-4b45-c27d-af0c64538749"
      },
      "execution_count": 57,
      "outputs": [
        {
          "output_type": "stream",
          "name": "stdout",
          "text": [
            "tensor([[[ 1,  3,  5],\n",
            "         [ 7,  9, 11],\n",
            "         [13, 15, 17]]])\n"
          ]
        }
      ]
    },
    {
      "cell_type": "code",
      "source": [
        "x[0]"
      ],
      "metadata": {
        "colab": {
          "base_uri": "https://localhost:8080/"
        },
        "id": "QyuGqY8OvH1i",
        "outputId": "6309e167-54a0-46bb-e294-9ba63fd8892c"
      },
      "execution_count": 75,
      "outputs": [
        {
          "output_type": "execute_result",
          "data": {
            "text/plain": [
              "tensor([[ 1,  3,  5],\n",
              "        [ 7,  9, 11],\n",
              "        [13, 15, 17]])"
            ]
          },
          "metadata": {},
          "execution_count": 75
        }
      ]
    },
    {
      "cell_type": "code",
      "source": [],
      "metadata": {
        "id": "yGuhSocEvUkU"
      },
      "execution_count": null,
      "outputs": []
    }
  ]
}