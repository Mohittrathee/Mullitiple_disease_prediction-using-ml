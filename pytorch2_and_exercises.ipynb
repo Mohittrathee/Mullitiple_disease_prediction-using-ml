{
  "nbformat": 4,
  "nbformat_minor": 0,
  "metadata": {
    "colab": {
      "provenance": [],
      "gpuType": "T4",
      "authorship_tag": "ABX9TyM2d+eJF6IgWSy4VVyj8s5i",
      "include_colab_link": true
    },
    "kernelspec": {
      "name": "python3",
      "display_name": "Python 3"
    },
    "language_info": {
      "name": "python"
    },
    "accelerator": "GPU"
  },
  "cells": [
    {
      "cell_type": "markdown",
      "metadata": {
        "id": "view-in-github",
        "colab_type": "text"
      },
      "source": [
        "<a href=\"https://colab.research.google.com/github/Mohittrathee/Mullitiple_disease_prediction-using-ml/blob/main/pytorch2_and_exercises.ipynb\" target=\"_parent\"><img src=\"https://colab.research.google.com/assets/colab-badge.svg\" alt=\"Open In Colab\"/></a>"
      ]
    },
    {
      "cell_type": "code",
      "execution_count": 2,
      "metadata": {
        "id": "lsydrRtszK3g"
      },
      "outputs": [],
      "source": [
        "import numpy as np\n",
        "import pandas as pd\n",
        "import torch"
      ]
    },
    {
      "cell_type": "code",
      "source": [
        "array=np.arange(1,10)\n",
        "tensor=torch.from_numpy(array)\n",
        "print(array)\n",
        "print(tensor)"
      ],
      "metadata": {
        "colab": {
          "base_uri": "https://localhost:8080/"
        },
        "id": "zEed_hGM5C9y",
        "outputId": "6ff491f2-149a-4f44-d023-b3d9a4de5c55"
      },
      "execution_count": 3,
      "outputs": [
        {
          "output_type": "stream",
          "name": "stdout",
          "text": [
            "[1 2 3 4 5 6 7 8 9]\n",
            "tensor([1, 2, 3, 4, 5, 6, 7, 8, 9])\n"
          ]
        }
      ]
    },
    {
      "cell_type": "code",
      "source": [
        "array.dtype,tensor.dtype"
      ],
      "metadata": {
        "colab": {
          "base_uri": "https://localhost:8080/"
        },
        "id": "72jOKx6X9b_l",
        "outputId": "3d7e03bf-42df-4641-f4b5-db1062b098c3"
      },
      "execution_count": 4,
      "outputs": [
        {
          "output_type": "execute_result",
          "data": {
            "text/plain": [
              "(dtype('int64'), torch.int64)"
            ]
          },
          "metadata": {},
          "execution_count": 4
        }
      ]
    },
    {
      "cell_type": "code",
      "source": [
        "tensor.type(torch.float32)\n",
        "tensor.dtype"
      ],
      "metadata": {
        "colab": {
          "base_uri": "https://localhost:8080/"
        },
        "id": "brn3-77I9hgo",
        "outputId": "76647e7f-df42-4cc7-bab8-90e1ca28f457"
      },
      "execution_count": 5,
      "outputs": [
        {
          "output_type": "execute_result",
          "data": {
            "text/plain": [
              "torch.int64"
            ]
          },
          "metadata": {},
          "execution_count": 5
        }
      ]
    },
    {
      "cell_type": "code",
      "source": [
        "tensor=torch.ones(9)\n",
        "numpy_tensor=tensor.numpy()\n",
        "tensor,numpy_tensor"
      ],
      "metadata": {
        "colab": {
          "base_uri": "https://localhost:8080/"
        },
        "id": "jcrn-j7v93nR",
        "outputId": "d44c34a5-bb5d-4361-a15c-ad057612f375"
      },
      "execution_count": 6,
      "outputs": [
        {
          "output_type": "execute_result",
          "data": {
            "text/plain": [
              "(tensor([1., 1., 1., 1., 1., 1., 1., 1., 1.]),\n",
              " array([1., 1., 1., 1., 1., 1., 1., 1., 1.], dtype=float32))"
            ]
          },
          "metadata": {},
          "execution_count": 6
        }
      ]
    },
    {
      "cell_type": "code",
      "source": [
        "tensor=torch.randint(1,10,(3,3))\n",
        "tensor"
      ],
      "metadata": {
        "colab": {
          "base_uri": "https://localhost:8080/"
        },
        "id": "db5CXGJb9-84",
        "outputId": "031e0a62-d100-43ba-d7a8-f26026e18d17"
      },
      "execution_count": 7,
      "outputs": [
        {
          "output_type": "execute_result",
          "data": {
            "text/plain": [
              "tensor([[8, 6, 6],\n",
              "        [1, 1, 7],\n",
              "        [1, 2, 2]])"
            ]
          },
          "metadata": {},
          "execution_count": 7
        }
      ]
    },
    {
      "cell_type": "code",
      "source": [
        "tensor_A=torch.rand(3,3)\n",
        "tensor_B=torch.rand(3,3)\n",
        "print(tensor_A,tensor_B)\n",
        "print(tensor_A==tensor_B)"
      ],
      "metadata": {
        "colab": {
          "base_uri": "https://localhost:8080/"
        },
        "id": "Cyl_6bWT_k1h",
        "outputId": "0c7b9eef-e181-46c3-f462-84a1bb448cf7"
      },
      "execution_count": 8,
      "outputs": [
        {
          "output_type": "stream",
          "name": "stdout",
          "text": [
            "tensor([[0.3590, 0.2833, 0.4433],\n",
            "        [0.1677, 0.4509, 0.8245],\n",
            "        [0.1715, 0.1853, 0.2054]]) tensor([[0.5100, 0.6429, 0.2997],\n",
            "        [0.1285, 0.2538, 0.1853],\n",
            "        [0.1338, 0.8212, 0.6094]])\n",
            "tensor([[False, False, False],\n",
            "        [False, False, False],\n",
            "        [False, False, False]])\n"
          ]
        }
      ]
    },
    {
      "cell_type": "code",
      "source": [
        "RANDOM_SEED=32\n",
        "torch.manual_seed(RANDOM_SEED)\n",
        "tensor_C=torch.rand(3,3)\n",
        "torch.manual_seed(RANDOM_SEED)\n",
        "tensor_D=torch.rand(3,3)\n",
        "print(tensor_C, tensor_D)\n",
        "print(tensor_C==tensor_D)"
      ],
      "metadata": {
        "colab": {
          "base_uri": "https://localhost:8080/"
        },
        "id": "bKDz2lhtdPgF",
        "outputId": "80155100-6d71-4170-d866-58c311a06b7a"
      },
      "execution_count": 9,
      "outputs": [
        {
          "output_type": "stream",
          "name": "stdout",
          "text": [
            "tensor([[0.8757, 0.2721, 0.4141],\n",
            "        [0.7857, 0.1130, 0.5793],\n",
            "        [0.6481, 0.0229, 0.5874]]) tensor([[0.8757, 0.2721, 0.4141],\n",
            "        [0.7857, 0.1130, 0.5793],\n",
            "        [0.6481, 0.0229, 0.5874]])\n",
            "tensor([[True, True, True],\n",
            "        [True, True, True],\n",
            "        [True, True, True]])\n"
          ]
        }
      ]
    },
    {
      "cell_type": "code",
      "source": [
        "torch.cuda.is_available()"
      ],
      "metadata": {
        "colab": {
          "base_uri": "https://localhost:8080/"
        },
        "id": "WyG-U9INdyyj",
        "outputId": "3ec43576-1084-4b10-f215-39750aaf7e0d"
      },
      "execution_count": 10,
      "outputs": [
        {
          "output_type": "execute_result",
          "data": {
            "text/plain": [
              "True"
            ]
          },
          "metadata": {},
          "execution_count": 10
        }
      ]
    },
    {
      "cell_type": "code",
      "source": [
        "device=\"cuda\" if torch.cuda.is_available() else \"cpu\"\n",
        "device"
      ],
      "metadata": {
        "colab": {
          "base_uri": "https://localhost:8080/",
          "height": 36
        },
        "id": "fxUcKZTUhkjL",
        "outputId": "a114ce6f-b48a-441d-e653-5e9c280f117b"
      },
      "execution_count": 11,
      "outputs": [
        {
          "output_type": "execute_result",
          "data": {
            "text/plain": [
              "'cuda'"
            ],
            "application/vnd.google.colaboratory.intrinsic+json": {
              "type": "string"
            }
          },
          "metadata": {},
          "execution_count": 11
        }
      ]
    },
    {
      "cell_type": "code",
      "source": [
        "tensor=torch.tensor([1,2,3])\n",
        "print(tensor,tensor.device)"
      ],
      "metadata": {
        "colab": {
          "base_uri": "https://localhost:8080/"
        },
        "id": "ufIRoUVRhxqE",
        "outputId": "b8d7a0a3-6f94-4587-d8c2-3c42c14a7dac"
      },
      "execution_count": 12,
      "outputs": [
        {
          "output_type": "stream",
          "name": "stdout",
          "text": [
            "tensor([1, 2, 3]) cpu\n"
          ]
        }
      ]
    },
    {
      "cell_type": "code",
      "source": [
        "random_tensor=torch.rand(7,7)\n",
        "print(random_tensor)"
      ],
      "metadata": {
        "colab": {
          "base_uri": "https://localhost:8080/"
        },
        "id": "PcrlFl03jIqA",
        "outputId": "4d0b8efe-4d05-4153-9215-f746539ef70c"
      },
      "execution_count": 14,
      "outputs": [
        {
          "output_type": "stream",
          "name": "stdout",
          "text": [
            "tensor([[0.5589, 0.4112, 0.9977, 0.5187, 0.9310, 0.2028, 0.6240],\n",
            "        [0.4142, 0.9531, 0.6668, 0.5360, 0.1804, 0.0755, 0.3405],\n",
            "        [0.7576, 0.2296, 0.2900, 0.0625, 0.9716, 0.9518, 0.2123],\n",
            "        [0.5161, 0.4722, 0.5887, 0.1751, 0.1881, 0.4266, 0.1156],\n",
            "        [0.5557, 0.2444, 0.1048, 0.4753, 0.2905, 0.7066, 0.9065],\n",
            "        [0.2047, 0.3438, 0.4117, 0.0127, 0.0150, 0.6994, 0.4675],\n",
            "        [0.2444, 0.9778, 0.0017, 0.9419, 0.0226, 0.2056, 0.7737]])\n"
          ]
        }
      ]
    },
    {
      "cell_type": "code",
      "source": [
        "tensor_2=torch.rand(1,7)\n",
        "print(tensor_2)"
      ],
      "metadata": {
        "colab": {
          "base_uri": "https://localhost:8080/"
        },
        "id": "iRtubNVonEvO",
        "outputId": "a6842f9a-ddbd-4869-d715-591c87bec046"
      },
      "execution_count": 15,
      "outputs": [
        {
          "output_type": "stream",
          "name": "stdout",
          "text": [
            "tensor([[0.3734, 0.3499, 0.1588, 0.6527, 0.9031, 0.6629, 0.9895]])\n"
          ]
        }
      ]
    },
    {
      "cell_type": "code",
      "source": [
        "tensor_3=torch.rand(1,7)\n",
        "print(tensor_3)"
      ],
      "metadata": {
        "colab": {
          "base_uri": "https://localhost:8080/"
        },
        "id": "gRAT4OoxnV_6",
        "outputId": "3c3fa5b5-cdbf-47c3-b977-a6e2e1ff30ac"
      },
      "execution_count": 16,
      "outputs": [
        {
          "output_type": "stream",
          "name": "stdout",
          "text": [
            "tensor([[0.1029, 0.0882, 0.2003, 0.4493, 0.5874, 0.5102, 0.5595]])\n"
          ]
        }
      ]
    },
    {
      "cell_type": "code",
      "source": [
        "matrix_multi=torch.matmul(tensor_2,tensor_3.T)\n",
        "print(matrix_multi)"
      ],
      "metadata": {
        "colab": {
          "base_uri": "https://localhost:8080/"
        },
        "id": "ULnIk5-3nhWw",
        "outputId": "ac576a3e-b76f-47af-feda-e30b597b2548"
      },
      "execution_count": 17,
      "outputs": [
        {
          "output_type": "stream",
          "name": "stdout",
          "text": [
            "tensor([[1.8167]])\n"
          ]
        }
      ]
    },
    {
      "cell_type": "code",
      "source": [
        "RANDOM_SEED=0\n",
        "torch.manual_seed(RANDOM_SEED)\n",
        "tensor_2=torch.rand(1,7)\n",
        "\n",
        "torch.manual_seed(RANDOM_SEED)\n",
        "tensor_3=torch.rand(1,7)\n",
        "\n",
        "print(tensor_2)\n",
        "print(tensor_3)\n",
        "print(tensor_2==tensor_3)"
      ],
      "metadata": {
        "colab": {
          "base_uri": "https://localhost:8080/"
        },
        "id": "C0OyUXNhnwKZ",
        "outputId": "9760a855-08c3-4bb5-803b-d9461316ee41"
      },
      "execution_count": 19,
      "outputs": [
        {
          "output_type": "stream",
          "name": "stdout",
          "text": [
            "tensor([[0.4963, 0.7682, 0.0885, 0.1320, 0.3074, 0.6341, 0.4901]])\n",
            "tensor([[0.4963, 0.7682, 0.0885, 0.1320, 0.3074, 0.6341, 0.4901]])\n",
            "tensor([[True, True, True, True, True, True, True]])\n"
          ]
        }
      ]
    },
    {
      "cell_type": "code",
      "source": [
        "RANDOM_SEED=1234\n",
        "torch.manual_seed(RANDOM_SEED)\n",
        "x=torch.rand(2,3)\n",
        "torch.manual_seed(RANDOM_SEED)\n",
        "y=torch.rand(2,3)\n",
        "print(x)\n",
        "print(y)\n",
        "\n",
        "device=\"cuda\"if torch.cuda.is_available() else \"cpu\"\n",
        "print(device)\n",
        "x=x.to(device)\n",
        "y=y.to(device)\n",
        "print(x)\n",
        "print(y)\n"
      ],
      "metadata": {
        "colab": {
          "base_uri": "https://localhost:8080/"
        },
        "id": "dIjz678fn9El",
        "outputId": "81ba621d-db5c-4a75-dca8-4b10af1d1436"
      },
      "execution_count": 21,
      "outputs": [
        {
          "output_type": "stream",
          "name": "stdout",
          "text": [
            "tensor([[0.0290, 0.4019, 0.2598],\n",
            "        [0.3666, 0.0583, 0.7006]])\n",
            "tensor([[0.0290, 0.4019, 0.2598],\n",
            "        [0.3666, 0.0583, 0.7006]])\n",
            "cuda\n",
            "tensor([[0.0290, 0.4019, 0.2598],\n",
            "        [0.3666, 0.0583, 0.7006]], device='cuda:0')\n",
            "tensor([[0.0290, 0.4019, 0.2598],\n",
            "        [0.3666, 0.0583, 0.7006]], device='cuda:0')\n"
          ]
        }
      ]
    },
    {
      "cell_type": "code",
      "source": [
        "mul=torch.matmul(x,y.T)\n",
        "print(mul)"
      ],
      "metadata": {
        "colab": {
          "base_uri": "https://localhost:8080/"
        },
        "id": "5rfdnS0KsQdO",
        "outputId": "2b7ce94c-9901-499d-c142-b35999c4d38c"
      },
      "execution_count": 22,
      "outputs": [
        {
          "output_type": "stream",
          "name": "stdout",
          "text": [
            "tensor([[0.2299, 0.2161],\n",
            "        [0.2161, 0.6287]], device='cuda:0')\n"
          ]
        }
      ]
    },
    {
      "cell_type": "code",
      "source": [
        "mul.argmax()"
      ],
      "metadata": {
        "colab": {
          "base_uri": "https://localhost:8080/"
        },
        "id": "lhc2yb0csVfD",
        "outputId": "c4dd1cf0-e94e-474f-a352-94018ad0c7e9"
      },
      "execution_count": 23,
      "outputs": [
        {
          "output_type": "execute_result",
          "data": {
            "text/plain": [
              "tensor(3, device='cuda:0')"
            ]
          },
          "metadata": {},
          "execution_count": 23
        }
      ]
    },
    {
      "cell_type": "code",
      "source": [
        "mul.argmin()"
      ],
      "metadata": {
        "colab": {
          "base_uri": "https://localhost:8080/"
        },
        "id": "cIFY-KqPscER",
        "outputId": "e57e19fe-1bb1-4190-f469-f2464d9b9426"
      },
      "execution_count": 24,
      "outputs": [
        {
          "output_type": "execute_result",
          "data": {
            "text/plain": [
              "tensor(1, device='cuda:0')"
            ]
          },
          "metadata": {},
          "execution_count": 24
        }
      ]
    },
    {
      "cell_type": "code",
      "source": [
        "mul.max()"
      ],
      "metadata": {
        "colab": {
          "base_uri": "https://localhost:8080/"
        },
        "id": "OZlUHE55sesp",
        "outputId": "28ae9dd7-2def-4a0b-dc02-77c4ba8d8edd"
      },
      "execution_count": 25,
      "outputs": [
        {
          "output_type": "execute_result",
          "data": {
            "text/plain": [
              "tensor(0.6287, device='cuda:0')"
            ]
          },
          "metadata": {},
          "execution_count": 25
        }
      ]
    },
    {
      "cell_type": "code",
      "source": [
        "mul.min()"
      ],
      "metadata": {
        "colab": {
          "base_uri": "https://localhost:8080/"
        },
        "id": "0WqLfCsasomW",
        "outputId": "21a57fdc-930c-4adf-d44b-530bc9f9a76e"
      },
      "execution_count": 26,
      "outputs": [
        {
          "output_type": "execute_result",
          "data": {
            "text/plain": [
              "tensor(0.2161, device='cuda:0')"
            ]
          },
          "metadata": {},
          "execution_count": 26
        }
      ]
    },
    {
      "cell_type": "code",
      "source": [
        "z=torch.rand(1,1,1,10)\n",
        "print(z)\n",
        "z.squeeze()"
      ],
      "metadata": {
        "colab": {
          "base_uri": "https://localhost:8080/"
        },
        "id": "Ko1DFsxBsrQr",
        "outputId": "1c167ea9-87c3-4a36-f462-d8a117da46f8"
      },
      "execution_count": 28,
      "outputs": [
        {
          "output_type": "stream",
          "name": "stdout",
          "text": [
            "tensor([[[[0.2837, 0.6567, 0.2388, 0.7313, 0.6012, 0.3043, 0.2548, 0.6294,\n",
            "           0.9665, 0.7399]]]])\n"
          ]
        },
        {
          "output_type": "execute_result",
          "data": {
            "text/plain": [
              "tensor([0.2837, 0.6567, 0.2388, 0.7313, 0.6012, 0.3043, 0.2548, 0.6294, 0.9665,\n",
              "        0.7399])"
            ]
          },
          "metadata": {},
          "execution_count": 28
        }
      ]
    },
    {
      "cell_type": "code",
      "source": [],
      "metadata": {
        "id": "L4HGN3POusuk"
      },
      "execution_count": null,
      "outputs": []
    }
  ]
}